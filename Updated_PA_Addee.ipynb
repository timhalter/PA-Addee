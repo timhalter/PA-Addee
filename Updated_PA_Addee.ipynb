{
  "nbformat": 4,
  "nbformat_minor": 0,
  "metadata": {
    "colab": {
      "name": "Updated_PA_Addee.ipynb",
      "provenance": [],
      "collapsed_sections": [],
      "authorship_tag": "ABX9TyN187y30v7fcZQArKm1Nebt",
      "include_colab_link": true
    },
    "kernelspec": {
      "name": "python3",
      "display_name": "Python 3"
    },
    "language_info": {
      "name": "python"
    }
  },
  "cells": [
    {
      "cell_type": "markdown",
      "metadata": {
        "id": "view-in-github",
        "colab_type": "text"
      },
      "source": [
        "<a href=\"https://colab.research.google.com/github/timhalter/PA-Addee/blob/main/Updated_PA_Addee.ipynb\" target=\"_parent\"><img src=\"https://colab.research.google.com/assets/colab-badge.svg\" alt=\"Open In Colab\"/></a>"
      ]
    },
    {
      "cell_type": "markdown",
      "metadata": {
        "id": "f9jPpVzH70yO"
      },
      "source": [
        "**Imports**"
      ]
    },
    {
      "cell_type": "code",
      "metadata": {
        "id": "jxPaMq1m5_T8",
        "colab": {
          "base_uri": "https://localhost:8080/"
        },
        "outputId": "03501edd-2dea-459d-f13a-e8227f9f5085"
      },
      "source": [
        "import pandas as pd\n",
        "import numpy as np\n",
        "\n",
        "import plotly.express as px\n",
        "\n",
        "import re\n",
        "from nltk.corpus import stopwords\n",
        "from tensorflow.keras.preprocessing.text import Tokenizer\n",
        "from tensorflow.keras.preprocessing.sequence import pad_sequences\n",
        "from sklearn.model_selection import train_test_split\n",
        "from sklearn.feature_extraction.text import CountVectorizer\n",
        "from sklearn.decomposition import TruncatedSVD\n",
        "from keras import Sequential\n",
        "from keras.layers import Dense,LSTM,Embedding\n",
        "from plotly.subplots import make_subplots\n",
        "import plotly.graph_objs as go\n",
        "\n",
        "import nltk\n",
        "nltk.download('stopwords')\n",
        "\n",
        "import tensorflow as tf"
      ],
      "execution_count": 15,
      "outputs": [
        {
          "output_type": "stream",
          "name": "stdout",
          "text": [
            "[nltk_data] Downloading package stopwords to /root/nltk_data...\n",
            "[nltk_data]   Unzipping corpora/stopwords.zip.\n"
          ]
        }
      ]
    },
    {
      "cell_type": "markdown",
      "metadata": {
        "id": "x1nY6Z1l76YI"
      },
      "source": [
        "**Load dataset**"
      ]
    },
    {
      "cell_type": "code",
      "metadata": {
        "colab": {
          "base_uri": "https://localhost:8080/",
          "height": 206
        },
        "id": "XKwKYewm7x65",
        "outputId": "b486e326-7e42-471c-e021-1b7b85cfc518"
      },
      "source": [
        "url = 'https://raw.githubusercontent.com/timhalter/PA-Addee/main/children_books.csv'\n",
        "df = pd.read_csv(url,encoding='ISO-8859-1')\n",
        "df.drop(['Author', 'Inerest_age'], axis=1, inplace=True)\n",
        "df.rename(columns = {'Title':'title', 'Desc':'desc', 'Reading_age':'age'}, inplace = True)\n",
        "\n",
        "df.head()"
      ],
      "execution_count": 6,
      "outputs": [
        {
          "output_type": "execute_result",
          "data": {
            "text/html": [
              "<div>\n",
              "<style scoped>\n",
              "    .dataframe tbody tr th:only-of-type {\n",
              "        vertical-align: middle;\n",
              "    }\n",
              "\n",
              "    .dataframe tbody tr th {\n",
              "        vertical-align: top;\n",
              "    }\n",
              "\n",
              "    .dataframe thead th {\n",
              "        text-align: right;\n",
              "    }\n",
              "</style>\n",
              "<table border=\"1\" class=\"dataframe\">\n",
              "  <thead>\n",
              "    <tr style=\"text-align: right;\">\n",
              "      <th></th>\n",
              "      <th>title</th>\n",
              "      <th>desc</th>\n",
              "      <th>age</th>\n",
              "    </tr>\n",
              "  </thead>\n",
              "  <tbody>\n",
              "    <tr>\n",
              "      <th>0</th>\n",
              "      <td>The Girl Who Drank the Moon</td>\n",
              "      <td>Every year, the evil Protectorate offers a bab...</td>\n",
              "      <td>10-14</td>\n",
              "    </tr>\n",
              "    <tr>\n",
              "      <th>1</th>\n",
              "      <td>Time Between Us</td>\n",
              "      <td>Sixteen-year-old Anna is struggling to underst...</td>\n",
              "      <td>12+</td>\n",
              "    </tr>\n",
              "    <tr>\n",
              "      <th>2</th>\n",
              "      <td>Girl Out of Water</td>\n",
              "      <td>Lou Brown's swimming ambitions sank without tr...</td>\n",
              "      <td>10+</td>\n",
              "    </tr>\n",
              "    <tr>\n",
              "      <th>3</th>\n",
              "      <td>Captive</td>\n",
              "      <td>Robyn is scared. Ever since the attempted assa...</td>\n",
              "      <td>13</td>\n",
              "    </tr>\n",
              "    <tr>\n",
              "      <th>4</th>\n",
              "      <td>The School of Music</td>\n",
              "      <td>Welcome to the School of Music. In charge is M...</td>\n",
              "      <td>10+</td>\n",
              "    </tr>\n",
              "  </tbody>\n",
              "</table>\n",
              "</div>"
            ],
            "text/plain": [
              "                         title  ...                                   age\n",
              "0  The Girl Who Drank the Moon  ...  10-14                               \n",
              "1              Time Between Us  ...    12+                               \n",
              "2            Girl Out of Water  ...    10+                               \n",
              "3                      Captive  ...     13                               \n",
              "4          The School of Music  ...    10+                               \n",
              "\n",
              "[5 rows x 3 columns]"
            ]
          },
          "metadata": {},
          "execution_count": 6
        }
      ]
    },
    {
      "cell_type": "code",
      "metadata": {
        "id": "lzz_jFVHti8W",
        "colab": {
          "base_uri": "https://localhost:8080/"
        },
        "outputId": "cdbcf849-5626-4559-a142-93a979930908"
      },
      "source": [
        "df['age'].value_counts().sort_index()\n"
      ],
      "execution_count": 7,
      "outputs": [
        {
          "output_type": "execute_result",
          "data": {
            "text/plain": [
              "10+                                     525\n",
              "10-12                                    85\n",
              "10-14                                    91\n",
              "11+                                     448\n",
              "12+                                     708\n",
              "13                                       87\n",
              "13+                                     533\n",
              "14+                                     173\n",
              "8+                                      267\n",
              "9+                                      352\n",
              "Name: age, dtype: int64"
            ]
          },
          "metadata": {},
          "execution_count": 7
        }
      ]
    },
    {
      "cell_type": "markdown",
      "metadata": {
        "id": "qmhKxGTG7-6x"
      },
      "source": [
        "**Preprocessing**"
      ]
    },
    {
      "cell_type": "code",
      "metadata": {
        "id": "638aZPQv8R92"
      },
      "source": [
        "def get_min_age(sir):\n",
        "    if sir.find('-') != -1:\n",
        "        return int(sir.split('-')[0])\n",
        "    else:\n",
        "        return int(sir.replace('+',' ').split(' ')[0])\n",
        "\n",
        "def get_max_age(sir):\n",
        "    if sir.find('-') != -1:\n",
        "        return int(sir.split('-')[1])\n",
        "    elif sir.find('+') != -1:\n",
        "        sp = sir.replace(' ', '')\n",
        "        sp = sir.replace('+', '')\n",
        "        return int(sp)\n",
        "    else:\n",
        "        return 99"
      ],
      "execution_count": 8,
      "outputs": []
    },
    {
      "cell_type": "code",
      "metadata": {
        "id": "F7jPChKT8cte",
        "colab": {
          "base_uri": "https://localhost:8080/",
          "height": 496
        },
        "outputId": "89fbac37-6616-4699-a90e-9681a8bfb8e7"
      },
      "source": [
        "#Preprocessing And Feature Engineering\n",
        "df.names = df.title.str.lower()\n",
        "df.desc = df.desc.str.lower()\n",
        "df['Min_Age'] = df.age.apply(get_min_age)\n",
        "df['Max_Age'] = df.age.apply(get_max_age)\n",
        "df['Title Nb Words'] = df.names.apply(lambda x: len(re.sub(' +', ' ', x).strip().split(' ')))\n",
        "df['Title Avg Word Length'] = df.names.apply(lambda x: np.mean(np.array([len(word) for word in (re.sub(' +', ' ', x).strip().split(' '))])))\n",
        "df['Range Length'] = df.Max_Age - df.Min_Age\n",
        "df"
      ],
      "execution_count": 9,
      "outputs": [
        {
          "output_type": "stream",
          "name": "stderr",
          "text": [
            "/usr/local/lib/python3.7/dist-packages/ipykernel_launcher.py:2: UserWarning:\n",
            "\n",
            "Pandas doesn't allow columns to be created via a new attribute name - see https://pandas.pydata.org/pandas-docs/stable/indexing.html#attribute-access\n",
            "\n"
          ]
        },
        {
          "output_type": "execute_result",
          "data": {
            "text/html": [
              "<div>\n",
              "<style scoped>\n",
              "    .dataframe tbody tr th:only-of-type {\n",
              "        vertical-align: middle;\n",
              "    }\n",
              "\n",
              "    .dataframe tbody tr th {\n",
              "        vertical-align: top;\n",
              "    }\n",
              "\n",
              "    .dataframe thead th {\n",
              "        text-align: right;\n",
              "    }\n",
              "</style>\n",
              "<table border=\"1\" class=\"dataframe\">\n",
              "  <thead>\n",
              "    <tr style=\"text-align: right;\">\n",
              "      <th></th>\n",
              "      <th>title</th>\n",
              "      <th>desc</th>\n",
              "      <th>age</th>\n",
              "      <th>Min_Age</th>\n",
              "      <th>Max_Age</th>\n",
              "      <th>Title Nb Words</th>\n",
              "      <th>Title Avg Word Length</th>\n",
              "      <th>Range Length</th>\n",
              "    </tr>\n",
              "  </thead>\n",
              "  <tbody>\n",
              "    <tr>\n",
              "      <th>0</th>\n",
              "      <td>The Girl Who Drank the Moon</td>\n",
              "      <td>every year, the evil protectorate offers a bab...</td>\n",
              "      <td>10-14</td>\n",
              "      <td>10</td>\n",
              "      <td>14</td>\n",
              "      <td>6</td>\n",
              "      <td>3.666667</td>\n",
              "      <td>4</td>\n",
              "    </tr>\n",
              "    <tr>\n",
              "      <th>1</th>\n",
              "      <td>Time Between Us</td>\n",
              "      <td>sixteen-year-old anna is struggling to underst...</td>\n",
              "      <td>12+</td>\n",
              "      <td>12</td>\n",
              "      <td>12</td>\n",
              "      <td>3</td>\n",
              "      <td>4.333333</td>\n",
              "      <td>0</td>\n",
              "    </tr>\n",
              "    <tr>\n",
              "      <th>2</th>\n",
              "      <td>Girl Out of Water</td>\n",
              "      <td>lou brown's swimming ambitions sank without tr...</td>\n",
              "      <td>10+</td>\n",
              "      <td>10</td>\n",
              "      <td>10</td>\n",
              "      <td>4</td>\n",
              "      <td>3.500000</td>\n",
              "      <td>0</td>\n",
              "    </tr>\n",
              "    <tr>\n",
              "      <th>3</th>\n",
              "      <td>Captive</td>\n",
              "      <td>robyn is scared. ever since the attempted assa...</td>\n",
              "      <td>13</td>\n",
              "      <td>13</td>\n",
              "      <td>99</td>\n",
              "      <td>1</td>\n",
              "      <td>7.000000</td>\n",
              "      <td>86</td>\n",
              "    </tr>\n",
              "    <tr>\n",
              "      <th>4</th>\n",
              "      <td>The School of Music</td>\n",
              "      <td>welcome to the school of music. in charge is m...</td>\n",
              "      <td>10+</td>\n",
              "      <td>10</td>\n",
              "      <td>10</td>\n",
              "      <td>4</td>\n",
              "      <td>4.000000</td>\n",
              "      <td>0</td>\n",
              "    </tr>\n",
              "    <tr>\n",
              "      <th>...</th>\n",
              "      <td>...</td>\n",
              "      <td>...</td>\n",
              "      <td>...</td>\n",
              "      <td>...</td>\n",
              "      <td>...</td>\n",
              "      <td>...</td>\n",
              "      <td>...</td>\n",
              "      <td>...</td>\n",
              "    </tr>\n",
              "    <tr>\n",
              "      <th>3264</th>\n",
              "      <td>Spy for the Queen of Scots</td>\n",
              "      <td>beautiful young aristocrat ginette, known as j...</td>\n",
              "      <td>12+</td>\n",
              "      <td>12</td>\n",
              "      <td>12</td>\n",
              "      <td>6</td>\n",
              "      <td>3.500000</td>\n",
              "      <td>0</td>\n",
              "    </tr>\n",
              "    <tr>\n",
              "      <th>3265</th>\n",
              "      <td>Jimmy Corrigan:</td>\n",
              "      <td>this extraordinary graphic novel is so obvious...</td>\n",
              "      <td>14+</td>\n",
              "      <td>14</td>\n",
              "      <td>14</td>\n",
              "      <td>2</td>\n",
              "      <td>7.000000</td>\n",
              "      <td>0</td>\n",
              "    </tr>\n",
              "    <tr>\n",
              "      <th>3266</th>\n",
              "      <td>The Martian Girl</td>\n",
              "      <td>following on from the brilliant lost on mars, ...</td>\n",
              "      <td>10+</td>\n",
              "      <td>10</td>\n",
              "      <td>10</td>\n",
              "      <td>3</td>\n",
              "      <td>4.666667</td>\n",
              "      <td>0</td>\n",
              "    </tr>\n",
              "    <tr>\n",
              "      <th>3267</th>\n",
              "      <td>Buffalo Soldier</td>\n",
              "      <td>plantation slave charley smith is eleven when ...</td>\n",
              "      <td>11+</td>\n",
              "      <td>11</td>\n",
              "      <td>11</td>\n",
              "      <td>2</td>\n",
              "      <td>7.000000</td>\n",
              "      <td>0</td>\n",
              "    </tr>\n",
              "    <tr>\n",
              "      <th>3268</th>\n",
              "      <td>Witchstruck</td>\n",
              "      <td>the future elizabeth i has been imprisoned by ...</td>\n",
              "      <td>12+</td>\n",
              "      <td>12</td>\n",
              "      <td>12</td>\n",
              "      <td>1</td>\n",
              "      <td>11.000000</td>\n",
              "      <td>0</td>\n",
              "    </tr>\n",
              "  </tbody>\n",
              "</table>\n",
              "<p>3269 rows × 8 columns</p>\n",
              "</div>"
            ],
            "text/plain": [
              "                            title  ... Range Length\n",
              "0     The Girl Who Drank the Moon  ...            4\n",
              "1                 Time Between Us  ...            0\n",
              "2               Girl Out of Water  ...            0\n",
              "3                         Captive  ...           86\n",
              "4             The School of Music  ...            0\n",
              "...                           ...  ...          ...\n",
              "3264   Spy for the Queen of Scots  ...            0\n",
              "3265              Jimmy Corrigan:  ...            0\n",
              "3266             The Martian Girl  ...            0\n",
              "3267              Buffalo Soldier  ...            0\n",
              "3268                  Witchstruck  ...            0\n",
              "\n",
              "[3269 rows x 8 columns]"
            ]
          },
          "metadata": {},
          "execution_count": 9
        }
      ]
    },
    {
      "cell_type": "code",
      "metadata": {
        "colab": {
          "base_uri": "https://localhost:8080/"
        },
        "id": "6rp1AG2xM0sf",
        "outputId": "f84e9af0-43e1-4931-dc62-a6e69f717821"
      },
      "source": [
        "df['Min_Age'].value_counts() / len(df['Min_Age'])"
      ],
      "execution_count": 10,
      "outputs": [
        {
          "output_type": "stream",
          "name": "stdout",
          "text": [
            "12    0.216580\n",
            "10    0.214439\n",
            "13    0.189660\n",
            "11    0.137045\n",
            "9     0.107678\n",
            "8     0.081676\n",
            "14    0.052921\n",
            "Name: Min_Age, dtype: float64\n"
          ]
        }
      ]
    },
    {
      "cell_type": "code",
      "metadata": {
        "colab": {
          "base_uri": "https://localhost:8080/"
        },
        "id": "J9xAjX8aNIej",
        "outputId": "e6c939ef-e702-429f-db4c-ca3c6239abc5"
      },
      "source": [
        "df['Max_Age'].value_counts() / len(df['Max_Age'])"
      ],
      "execution_count": 11,
      "outputs": [
        {
          "output_type": "execute_result",
          "data": {
            "text/plain": [
              "12    0.242582\n",
              "13    0.163047\n",
              "10    0.160600\n",
              "11    0.137045\n",
              "9     0.107678\n",
              "8     0.081676\n",
              "14    0.080759\n",
              "99    0.026614\n",
              "Name: Max_Age, dtype: float64"
            ]
          },
          "metadata": {},
          "execution_count": 11
        }
      ]
    },
    {
      "cell_type": "markdown",
      "metadata": {
        "id": "VH2exnveNeoN"
      },
      "source": [
        "**Process Text**"
      ]
    },
    {
      "cell_type": "code",
      "metadata": {
        "id": "o9AbUtmcNiET"
      },
      "source": [
        "def process_text(text):\n",
        "    \n",
        "    # Remove digits\n",
        "    text = re.sub(r'\\d+', ' ', text)\n",
        "    \n",
        "    # Split on whitespace\n",
        "    text = text.split()\n",
        "    \n",
        "    # Join on whitespace, but only the words that are not stop words\n",
        "    text = ' '.join([word for word in text if word not in stopwords.words('english')])\n",
        "    \n",
        "    return text"
      ],
      "execution_count": 13,
      "outputs": []
    },
    {
      "cell_type": "code",
      "metadata": {
        "id": "oxBj90l8NvUe"
      },
      "source": [
        "names = df['title'].copy().apply(process_text)\n",
        "descriptions = df['desc'].copy().apply(process_text)\n",
        "\n",
        "labels = df['Min_Age'].copy()"
      ],
      "execution_count": 17,
      "outputs": []
    },
    {
      "cell_type": "code",
      "metadata": {
        "colab": {
          "base_uri": "https://localhost:8080/"
        },
        "id": "_4xMSn1vVRIn",
        "outputId": "6668dd80-14b8-4065-c672-3be3ae5a0a5c"
      },
      "source": [
        "labels"
      ],
      "execution_count": 37,
      "outputs": [
        {
          "output_type": "execute_result",
          "data": {
            "text/plain": [
              "0       10\n",
              "1       12\n",
              "2       10\n",
              "3       13\n",
              "4       10\n",
              "        ..\n",
              "3264    12\n",
              "3265    14\n",
              "3266    10\n",
              "3267    11\n",
              "3268    12\n",
              "Name: Min_Age, Length: 3269, dtype: int64"
            ]
          },
          "metadata": {},
          "execution_count": 37
        }
      ]
    },
    {
      "cell_type": "markdown",
      "metadata": {
        "id": "PMRX0q_bOTqd"
      },
      "source": [
        "**Tokenize**"
      ]
    },
    {
      "cell_type": "code",
      "metadata": {
        "id": "XZohwE0uOTHn"
      },
      "source": [
        "tokenizer = Tokenizer()\n",
        "tokenizer.fit_on_texts(pd.concat([names, descriptions]))\n",
        "\n",
        "names = tokenizer.texts_to_sequences(names)\n",
        "descriptions = tokenizer.texts_to_sequences(descriptions)"
      ],
      "execution_count": 18,
      "outputs": []
    },
    {
      "cell_type": "code",
      "metadata": {
        "colab": {
          "base_uri": "https://localhost:8080/"
        },
        "id": "lQIB-FxkOuQ8",
        "outputId": "de04af44-b5f5-48bf-8c78-06d2c0516a79"
      },
      "source": [
        "vocab_length = len(tokenizer.word_index) + 1\n",
        "max_name_length = np.max(list(map(lambda name: len(name), names)))\n",
        "max_desc_length = np.max(list(map(lambda desc: len(desc), descriptions)))\n",
        "\n",
        "print(\"Max name length:\", max_name_length)\n",
        "print(\"Max description length:\", max_desc_length)\n",
        "print(\"Vocabulary length:\", vocab_length)"
      ],
      "execution_count": 19,
      "outputs": [
        {
          "output_type": "stream",
          "name": "stdout",
          "text": [
            "Max name length: 5\n",
            "Max description length: 303\n",
            "Vocabulary length: 2204\n"
          ]
        }
      ]
    },
    {
      "cell_type": "code",
      "metadata": {
        "colab": {
          "base_uri": "https://localhost:8080/"
        },
        "id": "7NWiAD65PBFj",
        "outputId": "af0de6e9-9931-4883-b94f-0559e7641afa"
      },
      "source": [
        "names = pad_sequences(names, maxlen=max_name_length, padding='post')\n",
        "descriptions = pad_sequences(descriptions, maxlen=max_desc_length, padding='post')\n",
        "\n",
        "print(\"Shape:\", names.shape)\n",
        "names"
      ],
      "execution_count": 22,
      "outputs": [
        {
          "output_type": "stream",
          "name": "stdout",
          "text": [
            "Shape: (3269, 5)\n"
          ]
        },
        {
          "output_type": "execute_result",
          "data": {
            "text/plain": [
              "array([[  17,   18,  181,  693,  314],\n",
              "       [  10, 1283,  187,    0,    0],\n",
              "       [  18,  445, 1284,    0,    0],\n",
              "       ...,\n",
              "       [  17,  162,   18,    0,    0],\n",
              "       [ 935,  936,    0,    0,    0],\n",
              "       [1537,    0,    0,    0,    0]], dtype=int32)"
            ]
          },
          "metadata": {},
          "execution_count": 22
        }
      ]
    },
    {
      "cell_type": "code",
      "metadata": {
        "colab": {
          "base_uri": "https://localhost:8080/"
        },
        "id": "l5SRvQUVPQiN",
        "outputId": "4e668b31-2a16-46a0-9cc3-37cc189201a5"
      },
      "source": [
        "\n",
        "print(\"Shape:\", descriptions.shape)\n",
        "descriptions"
      ],
      "execution_count": 23,
      "outputs": [
        {
          "output_type": "stream",
          "name": "stdout",
          "text": [
            "Shape: (3269, 303)\n"
          ]
        },
        {
          "output_type": "execute_result",
          "data": {
            "text/plain": [
              "array([[ 105,   12,  165, ...,    0,    0,    0],\n",
              "       [1288,   12,    5, ...,    0,    0,    0],\n",
              "       [ 455, 1301, 1302, ...,    0,    0,    0],\n",
              "       ...,\n",
              "       [ 637,  157,  619, ...,    0,    0,    0],\n",
              "       [1243, 1244,  199, ...,    0,    0,    0],\n",
              "       [ 288, 1796, 1797, ...,    0,    0,    0]], dtype=int32)"
            ]
          },
          "metadata": {},
          "execution_count": 23
        }
      ]
    },
    {
      "cell_type": "markdown",
      "metadata": {
        "id": "-xaa8dTDPUT6"
      },
      "source": [
        "**Train/Test split**"
      ]
    },
    {
      "cell_type": "code",
      "metadata": {
        "id": "3yGEZSyrPZnu"
      },
      "source": [
        "names_train, names_test, descriptions_train, descriptions_test, labels_train, labels_test = \\\n",
        "train_test_split(names, descriptions, labels, train_size=0.7, random_state=100)\n",
        "\n"
      ],
      "execution_count": 26,
      "outputs": []
    },
    {
      "cell_type": "code",
      "metadata": {
        "id": "GABHgpfx8cDT"
      },
      "source": [
        "name_dim = 64\n",
        "\n",
        "name_input = tf.keras.Input(shape=(max_name_length,), name=\"name_input\")\n",
        "\n",
        "name_embedding = tf.keras.layers.Embedding(\n",
        "    input_dim=vocab_length,\n",
        "    output_dim=name_dim,\n",
        "    input_length=max_name_length,\n",
        "    name=\"name_embedding\"\n",
        ")(name_input)\n",
        "\n",
        "name_flatten = tf.keras.layers.Flatten(name=\"name_flatten\")(name_embedding)"
      ],
      "execution_count": 27,
      "outputs": []
    },
    {
      "cell_type": "code",
      "metadata": {
        "id": "NejAFnz2QFz1"
      },
      "source": [
        "desc_dim = 64\n",
        "\n",
        "desc_input = tf.keras.Input(shape=(max_desc_length,), name=\"desc_input\")\n",
        "\n",
        "desc_embedding = tf.keras.layers.Embedding(\n",
        "    input_dim=vocab_length,\n",
        "    output_dim=desc_dim,\n",
        "    input_length=max_desc_length,\n",
        "    name=\"desc_embedding\"\n",
        ")(desc_input)\n",
        "\n",
        "gru_layer = tf.keras.layers.GRU(\n",
        "    units=256,\n",
        "    return_sequences=True,\n",
        "    name=\"gru_layer\"\n",
        ")(desc_embedding)\n",
        "\n",
        "desc_flatten = tf.keras.layers.Flatten(name=\"desc_flatten\")(gru_layer)"
      ],
      "execution_count": 28,
      "outputs": []
    },
    {
      "cell_type": "code",
      "metadata": {
        "id": "obrAMMbqQK65"
      },
      "source": [
        "concat = tf.keras.layers.concatenate([name_flatten, desc_flatten], name=\"concatenate\")\n",
        "\n",
        "output = tf.keras.layers.Dense(1, activation='sigmoid', name=\"output\")(concat)"
      ],
      "execution_count": 29,
      "outputs": []
    },
    {
      "cell_type": "code",
      "metadata": {
        "colab": {
          "base_uri": "https://localhost:8080/",
          "height": 1000
        },
        "id": "RRDzI8FwQOgk",
        "outputId": "3500e46e-9706-42f4-fbdb-96568a4b0a03"
      },
      "source": [
        "model = tf.keras.Model(inputs=[name_input, desc_input], outputs=output)\n",
        "\n",
        "print(model.summary())\n",
        "tf.keras.utils.plot_model(model)"
      ],
      "execution_count": 30,
      "outputs": [
        {
          "output_type": "stream",
          "name": "stdout",
          "text": [
            "Model: \"model\"\n",
            "__________________________________________________________________________________________________\n",
            "Layer (type)                    Output Shape         Param #     Connected to                     \n",
            "==================================================================================================\n",
            "desc_input (InputLayer)         [(None, 303)]        0                                            \n",
            "__________________________________________________________________________________________________\n",
            "name_input (InputLayer)         [(None, 5)]          0                                            \n",
            "__________________________________________________________________________________________________\n",
            "desc_embedding (Embedding)      (None, 303, 64)      141056      desc_input[0][0]                 \n",
            "__________________________________________________________________________________________________\n",
            "name_embedding (Embedding)      (None, 5, 64)        141056      name_input[0][0]                 \n",
            "__________________________________________________________________________________________________\n",
            "gru_layer (GRU)                 (None, 303, 256)     247296      desc_embedding[0][0]             \n",
            "__________________________________________________________________________________________________\n",
            "name_flatten (Flatten)          (None, 320)          0           name_embedding[0][0]             \n",
            "__________________________________________________________________________________________________\n",
            "desc_flatten (Flatten)          (None, 77568)        0           gru_layer[0][0]                  \n",
            "__________________________________________________________________________________________________\n",
            "concatenate (Concatenate)       (None, 77888)        0           name_flatten[0][0]               \n",
            "                                                                 desc_flatten[0][0]               \n",
            "__________________________________________________________________________________________________\n",
            "output (Dense)                  (None, 1)            77889       concatenate[0][0]                \n",
            "==================================================================================================\n",
            "Total params: 607,297\n",
            "Trainable params: 607,297\n",
            "Non-trainable params: 0\n",
            "__________________________________________________________________________________________________\n",
            "None\n"
          ]
        },
        {
          "output_type": "execute_result",
          "data": {
            "image/png": "[encoded data removed]",
            "text/plain": [
              "<IPython.core.display.Image object>"
            ]
          },
          "metadata": {},
          "execution_count": 30
        }
      ]
    },
    {
      "cell_type": "markdown",
      "metadata": {
        "id": "iIM5x7FVQVXs"
      },
      "source": [
        "**Training**"
      ]
    },
    {
      "cell_type": "code",
      "metadata": {
        "colab": {
          "base_uri": "https://localhost:8080/"
        },
        "id": "8fhkWaSTQO37",
        "outputId": "f1940e80-a47c-44bd-e280-7447b62f9cb2"
      },
      "source": [
        "batch_size = 32\n",
        "epochs = 14\n",
        "\n",
        "model.compile(\n",
        "    optimizer='adam',\n",
        "    loss='binary_crossentropy',\n",
        "    metrics=[\n",
        "        'accuracy',\n",
        "        tf.keras.metrics.AUC(name='auc')\n",
        "    ]\n",
        ")\n",
        "\n",
        "history = model.fit(\n",
        "    [names_train, descriptions_train],\n",
        "    labels_train,\n",
        "    validation_split=0.2,\n",
        "    batch_size=batch_size,\n",
        "    epochs=epochs,\n",
        "    callbacks=[\n",
        "        tf.keras.callbacks.ReduceLROnPlateau()\n",
        "    ]\n",
        ")"
      ],
      "execution_count": 31,
      "outputs": [
        {
          "output_type": "stream",
          "name": "stdout",
          "text": [
            "Epoch 1/14\n",
            "58/58 [==============================] - 46s 738ms/step - loss: -20964.2539 - accuracy: 0.0000e+00 - auc: 0.0000e+00 - val_loss: -47406.2695 - val_accuracy: 0.0000e+00 - val_auc: 0.0000e+00\n",
            "Epoch 2/14\n",
            "58/58 [==============================] - 42s 730ms/step - loss: -71538.3672 - accuracy: 0.0000e+00 - auc: 0.0000e+00 - val_loss: -96381.3438 - val_accuracy: 0.0000e+00 - val_auc: 0.0000e+00\n",
            "Epoch 3/14\n",
            "58/58 [==============================] - 42s 729ms/step - loss: -119793.8047 - accuracy: 0.0000e+00 - auc: 0.0000e+00 - val_loss: -143842.4062 - val_accuracy: 0.0000e+00 - val_auc: 0.0000e+00\n",
            "Epoch 4/14\n",
            "58/58 [==============================] - 42s 728ms/step - loss: -167124.9688 - accuracy: 0.0000e+00 - auc: 0.0000e+00 - val_loss: -190795.1250 - val_accuracy: 0.0000e+00 - val_auc: 0.0000e+00\n",
            "Epoch 5/14\n",
            "58/58 [==============================] - 42s 730ms/step - loss: -214063.0625 - accuracy: 0.0000e+00 - auc: 0.0000e+00 - val_loss: -237393.2344 - val_accuracy: 0.0000e+00 - val_auc: 0.0000e+00\n",
            "Epoch 6/14\n",
            "58/58 [==============================] - 42s 728ms/step - loss: -260514.9219 - accuracy: 0.0000e+00 - auc: 0.0000e+00 - val_loss: -283644.6250 - val_accuracy: 0.0000e+00 - val_auc: 0.0000e+00\n",
            "Epoch 7/14\n",
            "58/58 [==============================] - 42s 731ms/step - loss: -306869.6250 - accuracy: 0.0000e+00 - auc: 0.0000e+00 - val_loss: -329699.6875 - val_accuracy: 0.0000e+00 - val_auc: 0.0000e+00\n",
            "Epoch 8/14\n",
            "58/58 [==============================] - 42s 730ms/step - loss: -353124.0938 - accuracy: 0.0000e+00 - auc: 0.0000e+00 - val_loss: -375918.4688 - val_accuracy: 0.0000e+00 - val_auc: 0.0000e+00\n",
            "Epoch 9/14\n",
            "58/58 [==============================] - 42s 729ms/step - loss: -399339.2812 - accuracy: 0.0000e+00 - auc: 0.0000e+00 - val_loss: -421921.0938 - val_accuracy: 0.0000e+00 - val_auc: 0.0000e+00\n",
            "Epoch 10/14\n",
            "58/58 [==============================] - 42s 731ms/step - loss: -445483.4375 - accuracy: 0.0000e+00 - auc: 0.0000e+00 - val_loss: -467951.4062 - val_accuracy: 0.0000e+00 - val_auc: 0.0000e+00\n",
            "Epoch 11/14\n",
            "58/58 [==============================] - 42s 732ms/step - loss: -491726.1250 - accuracy: 0.0000e+00 - auc: 0.0000e+00 - val_loss: -513947.5625 - val_accuracy: 0.0000e+00 - val_auc: 0.0000e+00\n",
            "Epoch 12/14\n",
            "58/58 [==============================] - 42s 733ms/step - loss: -537895.7500 - accuracy: 0.0000e+00 - auc: 0.0000e+00 - val_loss: -560066.2500 - val_accuracy: 0.0000e+00 - val_auc: 0.0000e+00\n",
            "Epoch 13/14\n",
            "58/58 [==============================] - 42s 732ms/step - loss: -584098.0000 - accuracy: 0.0000e+00 - auc: 0.0000e+00 - val_loss: -606050.4375 - val_accuracy: 0.0000e+00 - val_auc: 0.0000e+00\n",
            "Epoch 14/14\n",
            "58/58 [==============================] - 43s 734ms/step - loss: -630224.3750 - accuracy: 0.0000e+00 - auc: 0.0000e+00 - val_loss: -652121.2500 - val_accuracy: 0.0000e+00 - val_auc: 0.0000e+00\n"
          ]
        }
      ]
    },
    {
      "cell_type": "code",
      "metadata": {
        "colab": {
          "base_uri": "https://localhost:8080/",
          "height": 542
        },
        "id": "YGKKV0GEUQ2D",
        "outputId": "cdf969e6-f1a0-4b44-e8dd-0b3f1a49f037"
      },
      "source": [
        "fig = px.line(\n",
        "    history.history,\n",
        "    y=['loss', 'val_loss'],\n",
        "    labels={'x': \"epoch\", 'y': \"loss\"},\n",
        "    title=\"Loss Over Time\"\n",
        ")\n",
        "\n",
        "fig.show()"
      ],
      "execution_count": 34,
      "outputs": [
        {
          "output_type": "display_data",
          "data": {
            "text/html": [
              "<html>\n",
              "<head><meta charset=\"utf-8\" /></head>\n",
              "<body>\n",
              "    <div>\n",
              "            <script src=\"https://cdnjs.cloudflare.com/ajax/libs/mathjax/2.7.5/MathJax.js?config=TeX-AMS-MML_SVG\"></script><script type=\"text/javascript\">if (window.MathJax) {MathJax.Hub.Config({SVG: {font: \"STIX-Web\"}});}</script>\n",
              "                <script type=\"text/javascript\">window.PlotlyConfig = {MathJaxConfig: 'local'};</script>\n",
              "        <script src=\"https://cdn.plot.ly/plotly-latest.min.js\"></script>    \n",
              "            <div id=\"37a58427-841b-4ed9-b3fe-d9e812a2e57c\" class=\"plotly-graph-div\" style=\"height:525px; width:100%;\"></div>\n",
              "            <script type=\"text/javascript\">\n",
              "                \n",
              "                    window.PLOTLYENV=window.PLOTLYENV || {};\n",
              "                    \n",
              "                if (document.getElementById(\"37a58427-841b-4ed9-b3fe-d9e812a2e57c\")) {\n",
              "                    Plotly.newPlot(\n",
              "                        '37a58427-841b-4ed9-b3fe-d9e812a2e57c',\n",
              "                        [{\"hoverlabel\": {\"namelength\": 0}, \"hovertemplate\": \"loss=%{y}\", \"legendgroup\": \"\", \"line\": {\"color\": \"#636efa\", \"dash\": \"solid\"}, \"mode\": \"lines\", \"name\": \"\", \"showlegend\": false, \"type\": \"scatter\", \"xaxis\": \"x\", \"y\": [\"loss\", \"val_loss\"], \"yaxis\": \"y\"}],\n",
              "                        {\"legend\": {\"tracegroupgap\": 0}, \"template\": {\"data\": {\"bar\": [{\"error_x\": {\"color\": \"#2a3f5f\"}, \"error_y\": {\"color\": \"#2a3f5f\"}, \"marker\": {\"line\": {\"color\": \"#E5ECF6\", \"width\": 0.5}}, \"type\": \"bar\"}], \"barpolar\": [{\"marker\": {\"line\": {\"color\": \"#E5ECF6\", \"width\": 0.5}}, \"type\": \"barpolar\"}], \"carpet\": [{\"aaxis\": {\"endlinecolor\": \"#2a3f5f\", \"gridcolor\": \"white\", \"linecolor\": \"white\", \"minorgridcolor\": \"white\", \"startlinecolor\": \"#2a3f5f\"}, \"baxis\": {\"endlinecolor\": \"#2a3f5f\", \"gridcolor\": \"white\", \"linecolor\": \"white\", \"minorgridcolor\": \"white\", \"startlinecolor\": \"#2a3f5f\"}, \"type\": \"carpet\"}], \"choropleth\": [{\"colorbar\": {\"outlinewidth\": 0, \"ticks\": \"\"}, \"type\": \"choropleth\"}], \"contour\": [{\"colorbar\": {\"outlinewidth\": 0, \"ticks\": \"\"}, \"colorscale\": [[0.0, \"#0d0887\"], [0.1111111111111111, \"#46039f\"], [0.2222222222222222, \"#7201a8\"], [0.3333333333333333, \"#9c179e\"], [0.4444444444444444, \"#bd3786\"], [0.5555555555555556, \"#d8576b\"], [0.6666666666666666, \"#ed7953\"], [0.7777777777777778, \"#fb9f3a\"], [0.8888888888888888, \"#fdca26\"], [1.0, \"#f0f921\"]], \"type\": \"contour\"}], \"contourcarpet\": [{\"colorbar\": {\"outlinewidth\": 0, \"ticks\": \"\"}, \"type\": \"contourcarpet\"}], \"heatmap\": [{\"colorbar\": {\"outlinewidth\": 0, \"ticks\": \"\"}, \"colorscale\": [[0.0, \"#0d0887\"], [0.1111111111111111, \"#46039f\"], [0.2222222222222222, \"#7201a8\"], [0.3333333333333333, \"#9c179e\"], [0.4444444444444444, \"#bd3786\"], [0.5555555555555556, \"#d8576b\"], [0.6666666666666666, \"#ed7953\"], [0.7777777777777778, \"#fb9f3a\"], [0.8888888888888888, \"#fdca26\"], [1.0, \"#f0f921\"]], \"type\": \"heatmap\"}], \"heatmapgl\": [{\"colorbar\": {\"outlinewidth\": 0, \"ticks\": \"\"}, \"colorscale\": [[0.0, \"#0d0887\"], [0.1111111111111111, \"#46039f\"], [0.2222222222222222, \"#7201a8\"], [0.3333333333333333, \"#9c179e\"], [0.4444444444444444, \"#bd3786\"], [0.5555555555555556, \"#d8576b\"], [0.6666666666666666, \"#ed7953\"], [0.7777777777777778, \"#fb9f3a\"], [0.8888888888888888, \"#fdca26\"], [1.0, \"#f0f921\"]], \"type\": \"heatmapgl\"}], \"histogram\": [{\"marker\": {\"colorbar\": {\"outlinewidth\": 0, \"ticks\": \"\"}}, \"type\": \"histogram\"}], \"histogram2d\": [{\"colorbar\": {\"outlinewidth\": 0, \"ticks\": \"\"}, \"colorscale\": [[0.0, \"#0d0887\"], [0.1111111111111111, \"#46039f\"], [0.2222222222222222, \"#7201a8\"], [0.3333333333333333, \"#9c179e\"], [0.4444444444444444, \"#bd3786\"], [0.5555555555555556, \"#d8576b\"], [0.6666666666666666, \"#ed7953\"], [0.7777777777777778, \"#fb9f3a\"], [0.8888888888888888, \"#fdca26\"], [1.0, \"#f0f921\"]], \"type\": \"histogram2d\"}], \"histogram2dcontour\": [{\"colorbar\": {\"outlinewidth\": 0, \"ticks\": \"\"}, \"colorscale\": [[0.0, \"#0d0887\"], [0.1111111111111111, \"#46039f\"], [0.2222222222222222, \"#7201a8\"], [0.3333333333333333, \"#9c179e\"], [0.4444444444444444, \"#bd3786\"], [0.5555555555555556, \"#d8576b\"], [0.6666666666666666, \"#ed7953\"], [0.7777777777777778, \"#fb9f3a\"], [0.8888888888888888, \"#fdca26\"], [1.0, \"#f0f921\"]], \"type\": \"histogram2dcontour\"}], \"mesh3d\": [{\"colorbar\": {\"outlinewidth\": 0, \"ticks\": \"\"}, \"type\": \"mesh3d\"}], \"parcoords\": [{\"line\": {\"colorbar\": {\"outlinewidth\": 0, \"ticks\": \"\"}}, \"type\": \"parcoords\"}], \"pie\": [{\"automargin\": true, \"type\": \"pie\"}], \"scatter\": [{\"marker\": {\"colorbar\": {\"outlinewidth\": 0, \"ticks\": \"\"}}, \"type\": \"scatter\"}], \"scatter3d\": [{\"line\": {\"colorbar\": {\"outlinewidth\": 0, \"ticks\": \"\"}}, \"marker\": {\"colorbar\": {\"outlinewidth\": 0, \"ticks\": \"\"}}, \"type\": \"scatter3d\"}], \"scattercarpet\": [{\"marker\": {\"colorbar\": {\"outlinewidth\": 0, \"ticks\": \"\"}}, \"type\": \"scattercarpet\"}], \"scattergeo\": [{\"marker\": {\"colorbar\": {\"outlinewidth\": 0, \"ticks\": \"\"}}, \"type\": \"scattergeo\"}], \"scattergl\": [{\"marker\": {\"colorbar\": {\"outlinewidth\": 0, \"ticks\": \"\"}}, \"type\": \"scattergl\"}], \"scattermapbox\": [{\"marker\": {\"colorbar\": {\"outlinewidth\": 0, \"ticks\": \"\"}}, \"type\": \"scattermapbox\"}], \"scatterpolar\": [{\"marker\": {\"colorbar\": {\"outlinewidth\": 0, \"ticks\": \"\"}}, \"type\": \"scatterpolar\"}], \"scatterpolargl\": [{\"marker\": {\"colorbar\": {\"outlinewidth\": 0, \"ticks\": \"\"}}, \"type\": \"scatterpolargl\"}], \"scatterternary\": [{\"marker\": {\"colorbar\": {\"outlinewidth\": 0, \"ticks\": \"\"}}, \"type\": \"scatterternary\"}], \"surface\": [{\"colorbar\": {\"outlinewidth\": 0, \"ticks\": \"\"}, \"colorscale\": [[0.0, \"#0d0887\"], [0.1111111111111111, \"#46039f\"], [0.2222222222222222, \"#7201a8\"], [0.3333333333333333, \"#9c179e\"], [0.4444444444444444, \"#bd3786\"], [0.5555555555555556, \"#d8576b\"], [0.6666666666666666, \"#ed7953\"], [0.7777777777777778, \"#fb9f3a\"], [0.8888888888888888, \"#fdca26\"], [1.0, \"#f0f921\"]], \"type\": \"surface\"}], \"table\": [{\"cells\": {\"fill\": {\"color\": \"#EBF0F8\"}, \"line\": {\"color\": \"white\"}}, \"header\": {\"fill\": {\"color\": \"#C8D4E3\"}, \"line\": {\"color\": \"white\"}}, \"type\": \"table\"}]}, \"layout\": {\"annotationdefaults\": {\"arrowcolor\": \"#2a3f5f\", \"arrowhead\": 0, \"arrowwidth\": 1}, \"coloraxis\": {\"colorbar\": {\"outlinewidth\": 0, \"ticks\": \"\"}}, \"colorscale\": {\"diverging\": [[0, \"#8e0152\"], [0.1, \"#c51b7d\"], [0.2, \"#de77ae\"], [0.3, \"#f1b6da\"], [0.4, \"#fde0ef\"], [0.5, \"#f7f7f7\"], [0.6, \"#e6f5d0\"], [0.7, \"#b8e186\"], [0.8, \"#7fbc41\"], [0.9, \"#4d9221\"], [1, \"#276419\"]], \"sequential\": [[0.0, \"#0d0887\"], [0.1111111111111111, \"#46039f\"], [0.2222222222222222, \"#7201a8\"], [0.3333333333333333, \"#9c179e\"], [0.4444444444444444, \"#bd3786\"], [0.5555555555555556, \"#d8576b\"], [0.6666666666666666, \"#ed7953\"], [0.7777777777777778, \"#fb9f3a\"], [0.8888888888888888, \"#fdca26\"], [1.0, \"#f0f921\"]], \"sequentialminus\": [[0.0, \"#0d0887\"], [0.1111111111111111, \"#46039f\"], [0.2222222222222222, \"#7201a8\"], [0.3333333333333333, \"#9c179e\"], [0.4444444444444444, \"#bd3786\"], [0.5555555555555556, \"#d8576b\"], [0.6666666666666666, \"#ed7953\"], [0.7777777777777778, \"#fb9f3a\"], [0.8888888888888888, \"#fdca26\"], [1.0, \"#f0f921\"]]}, \"colorway\": [\"#636efa\", \"#EF553B\", \"#00cc96\", \"#ab63fa\", \"#FFA15A\", \"#19d3f3\", \"#FF6692\", \"#B6E880\", \"#FF97FF\", \"#FECB52\"], \"font\": {\"color\": \"#2a3f5f\"}, \"geo\": {\"bgcolor\": \"white\", \"lakecolor\": \"white\", \"landcolor\": \"#E5ECF6\", \"showlakes\": true, \"showland\": true, \"subunitcolor\": \"white\"}, \"hoverlabel\": {\"align\": \"left\"}, \"hovermode\": \"closest\", \"mapbox\": {\"style\": \"light\"}, \"paper_bgcolor\": \"white\", \"plot_bgcolor\": \"#E5ECF6\", \"polar\": {\"angularaxis\": {\"gridcolor\": \"white\", \"linecolor\": \"white\", \"ticks\": \"\"}, \"bgcolor\": \"#E5ECF6\", \"radialaxis\": {\"gridcolor\": \"white\", \"linecolor\": \"white\", \"ticks\": \"\"}}, \"scene\": {\"xaxis\": {\"backgroundcolor\": \"#E5ECF6\", \"gridcolor\": \"white\", \"gridwidth\": 2, \"linecolor\": \"white\", \"showbackground\": true, \"ticks\": \"\", \"zerolinecolor\": \"white\"}, \"yaxis\": {\"backgroundcolor\": \"#E5ECF6\", \"gridcolor\": \"white\", \"gridwidth\": 2, \"linecolor\": \"white\", \"showbackground\": true, \"ticks\": \"\", \"zerolinecolor\": \"white\"}, \"zaxis\": {\"backgroundcolor\": \"#E5ECF6\", \"gridcolor\": \"white\", \"gridwidth\": 2, \"linecolor\": \"white\", \"showbackground\": true, \"ticks\": \"\", \"zerolinecolor\": \"white\"}}, \"shapedefaults\": {\"line\": {\"color\": \"#2a3f5f\"}}, \"ternary\": {\"aaxis\": {\"gridcolor\": \"white\", \"linecolor\": \"white\", \"ticks\": \"\"}, \"baxis\": {\"gridcolor\": \"white\", \"linecolor\": \"white\", \"ticks\": \"\"}, \"bgcolor\": \"#E5ECF6\", \"caxis\": {\"gridcolor\": \"white\", \"linecolor\": \"white\", \"ticks\": \"\"}}, \"title\": {\"x\": 0.05}, \"xaxis\": {\"automargin\": true, \"gridcolor\": \"white\", \"linecolor\": \"white\", \"ticks\": \"\", \"title\": {\"standoff\": 15}, \"zerolinecolor\": \"white\", \"zerolinewidth\": 2}, \"yaxis\": {\"automargin\": true, \"gridcolor\": \"white\", \"linecolor\": \"white\", \"ticks\": \"\", \"title\": {\"standoff\": 15}, \"zerolinecolor\": \"white\", \"zerolinewidth\": 2}}}, \"title\": {\"text\": \"Loss Over Time\"}, \"xaxis\": {\"anchor\": \"y\", \"domain\": [0.0, 1.0]}, \"yaxis\": {\"anchor\": \"x\", \"domain\": [0.0, 1.0], \"title\": {\"text\": \"loss\"}}},\n",
              "                        {\"responsive\": true}\n",
              "                    ).then(function(){\n",
              "                            \n",
              "var gd = document.getElementById('37a58427-841b-4ed9-b3fe-d9e812a2e57c');\n",
              "var x = new MutationObserver(function (mutations, observer) {{\n",
              "        var display = window.getComputedStyle(gd).display;\n",
              "        if (!display || display === 'none') {{\n",
              "            console.log([gd, 'removed!']);\n",
              "            Plotly.purge(gd);\n",
              "            observer.disconnect();\n",
              "        }}\n",
              "}});\n",
              "\n",
              "// Listen for the removal of the full notebook cells\n",
              "var notebookContainer = gd.closest('#notebook-container');\n",
              "if (notebookContainer) {{\n",
              "    x.observe(notebookContainer, {childList: true});\n",
              "}}\n",
              "\n",
              "// Listen for the clearing of the current output cell\n",
              "var outputEl = gd.closest('.output');\n",
              "if (outputEl) {{\n",
              "    x.observe(outputEl, {childList: true});\n",
              "}}\n",
              "\n",
              "                        })\n",
              "                };\n",
              "                \n",
              "            </script>\n",
              "        </div>\n",
              "</body>\n",
              "</html>"
            ]
          },
          "metadata": {}
        }
      ]
    },
    {
      "cell_type": "code",
      "metadata": {
        "colab": {
          "base_uri": "https://localhost:8080/"
        },
        "id": "AWaIsMpfTYqX",
        "outputId": "426188b2-f438-4f67-93b4-c6181c38b98e"
      },
      "source": [
        "results = model.evaluate([names_test, descriptions_test], labels_test)\n",
        "\n",
        "print(\"Accuracy:\", results[1])\n",
        "print(\" ROC AUC:\", results[2])"
      ],
      "execution_count": 33,
      "outputs": [
        {
          "output_type": "stream",
          "name": "stdout",
          "text": [
            "31/31 [==============================] - 6s 198ms/step - loss: -655887.1250 - accuracy: 0.0000e+00 - auc: 0.0000e+00\n"
          ]
        },
        {
          "output_type": "execute_result",
          "data": {
            "text/plain": [
              "[-655887.125, 0.0, 0.0]"
            ]
          },
          "metadata": {},
          "execution_count": 33
        }
      ]
    }
  ]
}