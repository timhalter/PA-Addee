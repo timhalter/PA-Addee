{
  "nbformat": 4,
  "nbformat_minor": 0,
  "metadata": {
    "colab": {
      "name": "PA_Addee.ipynb",
      "provenance": [],
      "collapsed_sections": [],
      "authorship_tag": "ABX9TyOn0GBKdIOr+8W5iSbHHym6",
      "include_colab_link": true
    },
    "kernelspec": {
      "name": "python3",
      "display_name": "Python 3"
    },
    "language_info": {
      "name": "python"
    }
  },
  "cells": [
    {
      "cell_type": "markdown",
      "metadata": {
        "id": "view-in-github",
        "colab_type": "text"
      },
      "source": [
        "<a href=\"https://colab.research.google.com/github/timhalter/PA-Addee/blob/main/PA_Addee.ipynb\" target=\"_parent\"><img src=\"https://colab.research.google.com/assets/colab-badge.svg\" alt=\"Open In Colab\"/></a>"
      ]
    },
    {
      "cell_type": "markdown",
      "metadata": {
        "id": "f9jPpVzH70yO"
      },
      "source": [
        "**Imports**"
      ]
    },
    {
      "cell_type": "code",
      "metadata": {
        "id": "jxPaMq1m5_T8"
      },
      "source": [
        "import pandas as pd\n",
        "import numpy as np"
      ],
      "execution_count": 8,
      "outputs": []
    },
    {
      "cell_type": "markdown",
      "metadata": {
        "id": "x1nY6Z1l76YI"
      },
      "source": [
        "**Load dataset**"
      ]
    },
    {
      "cell_type": "code",
      "metadata": {
        "colab": {
          "base_uri": "https://localhost:8080/",
          "height": 206
        },
        "id": "XKwKYewm7x65",
        "outputId": "8f370340-e412-4170-e237-99e670fe508d"
      },
      "source": [
        "url = 'https://raw.githubusercontent.com/timhalter/PA-Addee/main/children_books.csv'\n",
        "cs_df = pd.read_csv(url,encoding='ISO-8859-1')\n",
        "\n",
        "cs_df.head()"
      ],
      "execution_count": 9,
      "outputs": [
        {
          "output_type": "execute_result",
          "data": {
            "text/html": [
              "<div>\n",
              "<style scoped>\n",
              "    .dataframe tbody tr th:only-of-type {\n",
              "        vertical-align: middle;\n",
              "    }\n",
              "\n",
              "    .dataframe tbody tr th {\n",
              "        vertical-align: top;\n",
              "    }\n",
              "\n",
              "    .dataframe thead th {\n",
              "        text-align: right;\n",
              "    }\n",
              "</style>\n",
              "<table border=\"1\" class=\"dataframe\">\n",
              "  <thead>\n",
              "    <tr style=\"text-align: right;\">\n",
              "      <th></th>\n",
              "      <th>Title</th>\n",
              "      <th>Author</th>\n",
              "      <th>Desc</th>\n",
              "      <th>Inerest_age</th>\n",
              "      <th>Reading_age</th>\n",
              "    </tr>\n",
              "  </thead>\n",
              "  <tbody>\n",
              "    <tr>\n",
              "      <th>0</th>\n",
              "      <td>The Girl Who Drank the Moon</td>\n",
              "      <td>Kelly Barnhill</td>\n",
              "      <td>Every year, the evil Protectorate offers a bab...</td>\n",
              "      <td>10-14</td>\n",
              "      <td>10-14</td>\n",
              "    </tr>\n",
              "    <tr>\n",
              "      <th>1</th>\n",
              "      <td>Time Between Us</td>\n",
              "      <td>Tamara Ireland Stone</td>\n",
              "      <td>Sixteen-year-old Anna is struggling to underst...</td>\n",
              "      <td>13+</td>\n",
              "      <td>12+</td>\n",
              "    </tr>\n",
              "    <tr>\n",
              "      <th>2</th>\n",
              "      <td>Girl Out of Water</td>\n",
              "      <td>Nat Luurtsema</td>\n",
              "      <td>Lou Brown's swimming ambitions sank without tr...</td>\n",
              "      <td>13-18</td>\n",
              "      <td>10+</td>\n",
              "    </tr>\n",
              "    <tr>\n",
              "      <th>3</th>\n",
              "      <td>Captive</td>\n",
              "      <td>A J Grainger</td>\n",
              "      <td>Robyn is scared. Ever since the attempted assa...</td>\n",
              "      <td>13+</td>\n",
              "      <td>13</td>\n",
              "    </tr>\n",
              "    <tr>\n",
              "      <th>4</th>\n",
              "      <td>The School of Music</td>\n",
              "      <td>Rachel Bowen and Meurig Bowen Illustrator: Dan...</td>\n",
              "      <td>Welcome to the School of Music. In charge is M...</td>\n",
              "      <td>10+</td>\n",
              "      <td>10+</td>\n",
              "    </tr>\n",
              "  </tbody>\n",
              "</table>\n",
              "</div>"
            ],
            "text/plain": [
              "                         Title  ...                           Reading_age\n",
              "0  The Girl Who Drank the Moon  ...  10-14                               \n",
              "1              Time Between Us  ...    12+                               \n",
              "2            Girl Out of Water  ...    10+                               \n",
              "3                      Captive  ...     13                               \n",
              "4          The School of Music  ...    10+                               \n",
              "\n",
              "[5 rows x 5 columns]"
            ]
          },
          "metadata": {},
          "execution_count": 9
        }
      ]
    },
    {
      "cell_type": "markdown",
      "metadata": {
        "id": "qmhKxGTG7-6x"
      },
      "source": [
        "**Stemming**"
      ]
    },
    {
      "cell_type": "code",
      "metadata": {
        "id": "638aZPQv8R92"
      },
      "source": [
        ""
      ],
      "execution_count": null,
      "outputs": []
    }
  ]
}